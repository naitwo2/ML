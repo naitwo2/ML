{
  "nbformat": 4,
  "nbformat_minor": 0,
  "metadata": {
    "colab": {
      "name": "MachineLearning.ipynb",
      "version": "0.3.2",
      "provenance": []
    },
    "kernelspec": {
      "name": "python3",
      "display_name": "Python 3"
    }
  },
  "cells": [
    {
      "metadata": {
        "id": "V4gXbi4Bj8GQ",
        "colab_type": "code",
        "colab": {}
      },
      "cell_type": "code",
      "source": [
        "#----- モジュールの読み込み -----\n",
        "\n",
        "import numpy\n",
        "from keras.utils import plot_model\n",
        "from PIL import Image\n",
        "import matplotlib.pyplot as plt\n",
        "\n",
        "from keras.datasets import mnist\n",
        "from keras.models import Sequential\n",
        "from keras.layers import Dense, Activation,Dropout\n",
        "from keras.utils.np_utils import to_categorical\n",
        "from keras.optimizers import RMSprop"
      ],
      "execution_count": 0,
      "outputs": []
    },
    {
      "metadata": {
        "id": "ExrkWc_hloLc",
        "colab_type": "code",
        "colab": {}
      },
      "cell_type": "code",
      "source": [
        "#----- 特徴量、画像データの読み込み -----\n",
        "#データ数は学習：テスト = 60000枚 : 10000枚\n",
        "\n",
        "(data_train, label_train), (data_test, label_test) = mnist.load_data()\n"
      ],
      "execution_count": 0,
      "outputs": []
    },
    {
      "metadata": {
        "id": "JCJ6g0folqEk",
        "colab_type": "code",
        "colab": {}
      },
      "cell_type": "code",
      "source": [
        "# ----- 層のパラメータ、伝搬のさせ方設定 -----\n",
        "\n",
        "model = Sequential()\n",
        "\n",
        "model.add(Dense(200, input_dim=784))\n",
        "model.add(Activation(\"sigmoid\"))\n",
        "model.add(Dropout(0.3))\n",
        "\n",
        "model.add(Dense(200))\n",
        "model.add(Activation(\"sigmoid\"))\n",
        "model.add(Dropout(0.3))\n",
        "\n",
        "model.add(Dense(10))\n",
        "model.add(Activation(\"softmax\"))"
      ],
      "execution_count": 0,
      "outputs": []
    },
    {
      "metadata": {
        "id": "wlM6956PpGKD",
        "colab_type": "code",
        "colab": {}
      },
      "cell_type": "code",
      "source": [
        "#-----　学習のさせ方設定　-----\n",
        "\n",
        "\n",
        "model.compile(loss='categorical_crossentropy',\n",
        "                        optimizer='adam',\n",
        "                        metrics=['accuracy'])\n",
        "\n",
        "\n",
        "## 画像データ変換\n",
        "data_train = data_train.reshape(60000, 784) # 2次元配列を1次元に変換\n",
        "data_test = data_test.reshape(10000, 784)\n",
        "data_train = data_train.astype('float32')   # int型をfloat32型に変換\n",
        "data_test = data_test.astype('float32')\n",
        "data_train /= 255.0                        # [0-255]の値を[0.0-1.0]に変換\n",
        "data_test /= 255.0\n",
        "\n",
        "## ラベル変換\n",
        "label_train = to_categorical(label_train)\n",
        "label_test = to_categorical(label_test)\n",
        "\n",
        "print(\"■サンプル数\")\n",
        "print(data_train.shape[0], 'train samples')\n",
        "print(data_test.shape[0], 'test samples')\n",
        "\n",
        "\n",
        "#-----　ネットワークの学習と評価　-----\n",
        "\n",
        "print(\"\\n■学習と評価\")\n",
        "history = model.fit(data_train , label_train , epochs=30 , batch_size=512 , verbose=1 , validation_data=(data_test , label_test))\n",
        "\n",
        "\n",
        "#----- グラフ出力　-----\n",
        "\n",
        "#Accuracy\n",
        "plt.plot(history.history['acc'])\n",
        "plt.plot(history.history['val_acc'])\n",
        "plt.title('model accuracy')\n",
        "plt.ylabel('accuracy')\n",
        "plt.xlabel('epoch')\n",
        "plt.legend(['train', 'test'], loc='upper left')\n",
        "plt.show()\n",
        "\n",
        "#loss\n",
        "plt.plot(history.history['loss'])\n",
        "plt.plot(history.history['val_loss'])\n",
        "plt.title('model loss')\n",
        "plt.ylabel('loss')\n",
        "plt.xlabel('epoch')\n",
        "plt.legend(['train', 'test'], loc='upper left')\n",
        "plt.show()"
      ],
      "execution_count": 0,
      "outputs": []
    }
  ]
}