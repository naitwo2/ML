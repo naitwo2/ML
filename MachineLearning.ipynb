{
  "nbformat": 4,
  "nbformat_minor": 0,
  "metadata": {
    "colab": {
      "name": "MachineLearning.ipynb",
      "version": "0.3.2",
      "provenance": []
    },
    "kernelspec": {
      "name": "python3",
      "display_name": "Python 3"
    }
  },
  "cells": [
    {
      "metadata": {
        "id": "V4gXbi4Bj8GQ",
        "colab_type": "code",
        "colab": {
          "base_uri": "https://localhost:8080/",
          "height": 34
        },
        "outputId": "8901fedf-9d66-4b94-f0d3-44af205b0c0e"
      },
      "cell_type": "code",
      "source": [
        "#----- モジュールの読み込み -----\n",
        "\n",
        "import numpy\n",
        "from keras.utils import plot_model\n",
        "from PIL import Image\n",
        "import matplotlib.pyplot as plt\n",
        "\n",
        "from keras.datasets import mnist\n",
        "from keras.models import Sequential\n",
        "from keras.layers import Dense, Activation,Dropout\n",
        "from keras.utils.np_utils import to_categorical\n",
        "from keras.optimizers import RMSprop"
      ],
      "execution_count": 1,
      "outputs": [
        {
          "output_type": "stream",
          "text": [
            "Using TensorFlow backend.\n"
          ],
          "name": "stderr"
        }
      ]
    },
    {
      "metadata": {
        "id": "ExrkWc_hloLc",
        "colab_type": "code",
        "colab": {
          "base_uri": "https://localhost:8080/",
          "height": 51
        },
        "outputId": "afee31d8-2406-470c-c83d-612cc81b3353"
      },
      "cell_type": "code",
      "source": [
        "#----- 特徴量、画像データの読み込み -----\n",
        "#データ数は学習：テスト = 60000枚 : 10000枚\n",
        "\n",
        "(data_train, label_train), (data_test, label_test) = mnist.load_data()\n"
      ],
      "execution_count": 2,
      "outputs": [
        {
          "output_type": "stream",
          "text": [
            "Downloading data from https://s3.amazonaws.com/img-datasets/mnist.npz\n",
            "11493376/11490434 [==============================] - 1s 0us/step\n"
          ],
          "name": "stdout"
        }
      ]
    },
    {
      "metadata": {
        "id": "JCJ6g0folqEk",
        "colab_type": "code",
        "colab": {}
      },
      "cell_type": "code",
      "source": [
        "# ----- 層のパラメータ、伝搬のさせ方設定 -----\n",
        "\n",
        "model = Sequential()\n",
        "\n",
        "model.add(Dense(200, input_dim=784))\n",
        "model.add(Activation(\"sigmoid\"))\n",
        "model.add(Dropout(0.3))\n",
        "\n",
        "model.add(Dense(200))\n",
        "model.add(Activation(\"sigmoid\"))\n",
        "model.add(Dropout(0.3))\n",
        "\n",
        "model.add(Dense(10))\n",
        "model.add(Activation(\"softmax\"))"
      ],
      "execution_count": 0,
      "outputs": []
    },
    {
      "metadata": {
        "id": "HzVdd30slr6Y",
        "colab_type": "code",
        "colab": {
          "base_uri": "https://localhost:8080/",
          "height": 68
        },
        "outputId": "f5c8eb89-c8cd-45d5-d7f1-0618bdd65e80"
      },
      "cell_type": "code",
      "source": [
        "#-----　学習のさせ方設定　-----\n",
        "\n",
        "\n",
        "model.compile(loss='categorical_crossentropy',\n",
        "                        optimizer='adam',\n",
        "                        metrics=['accuracy'])\n",
        "\n",
        "\n",
        "## 画像データ変換\n",
        "data_train = data_train.reshape(60000, 784) # 2次元配列を1次元に変換\n",
        "data_test = data_test.reshape(10000, 784)\n",
        "data_train = data_train.astype('float32')   # int型をfloat32型に変換\n",
        "data_test = data_test.astype('float32')\n",
        "data_train /= 255.0                        # [0-255]の値を[0.0-1.0]に変換\n",
        "data_test /= 255.0\n",
        "\n",
        "## ラベル変換\n",
        "label_train = to_categorical(label_train)\n",
        "label_test = to_categorical(label_test)\n",
        "\n",
        "print(\"■サンプル数\")\n",
        "print(data_train.shape[0], 'train samples')\n",
        "print(data_test.shape[0], 'test samples')\n",
        "\n"
      ],
      "execution_count": 4,
      "outputs": [
        {
          "output_type": "stream",
          "text": [
            "■サンプル数\n",
            "60000 train samples\n",
            "10000 test samples\n"
          ],
          "name": "stdout"
        }
      ]
    },
    {
      "metadata": {
        "id": "PceY5eXxltyj",
        "colab_type": "code",
        "colab": {
          "base_uri": "https://localhost:8080/",
          "height": 1071
        },
        "outputId": "c6c3b39f-ad8d-4710-875b-f68b2c425501"
      },
      "cell_type": "code",
      "source": [
        "#-----　ネットワークの学習と評価　-----\n",
        "\n",
        "print(\"■学習と評価\")\n",
        "history = model.fit(data_train , label_train , epochs=30 , batch_size=512 , verbose=1 , validation_data=(data_test , label_test))\n"
      ],
      "execution_count": 5,
      "outputs": [
        {
          "output_type": "stream",
          "text": [
            "■学習と評価\n",
            "Train on 60000 samples, validate on 10000 samples\n",
            "Epoch 1/30\n",
            "60000/60000 [==============================] - 3s 43us/step - loss: 1.3478 - acc: 0.5773 - val_loss: 0.5277 - val_acc: 0.8722\n",
            "Epoch 2/30\n",
            "60000/60000 [==============================] - 2s 39us/step - loss: 0.4885 - acc: 0.8592 - val_loss: 0.3231 - val_acc: 0.9087\n",
            "Epoch 3/30\n",
            "60000/60000 [==============================] - 2s 39us/step - loss: 0.3654 - acc: 0.8939 - val_loss: 0.2717 - val_acc: 0.9213\n",
            "Epoch 4/30\n",
            "60000/60000 [==============================] - 2s 39us/step - loss: 0.3157 - acc: 0.9072 - val_loss: 0.2403 - val_acc: 0.9289\n",
            "Epoch 5/30\n",
            "60000/60000 [==============================] - 2s 39us/step - loss: 0.2816 - acc: 0.9168 - val_loss: 0.2131 - val_acc: 0.9354\n",
            "Epoch 6/30\n",
            "60000/60000 [==============================] - 2s 40us/step - loss: 0.2537 - acc: 0.9243 - val_loss: 0.1973 - val_acc: 0.9406\n",
            "Epoch 7/30\n",
            "60000/60000 [==============================] - 2s 39us/step - loss: 0.2335 - acc: 0.9306 - val_loss: 0.1800 - val_acc: 0.9436\n",
            "Epoch 8/30\n",
            "60000/60000 [==============================] - 2s 38us/step - loss: 0.2125 - acc: 0.9367 - val_loss: 0.1656 - val_acc: 0.9489\n",
            "Epoch 9/30\n",
            "60000/60000 [==============================] - 2s 39us/step - loss: 0.1989 - acc: 0.9416 - val_loss: 0.1542 - val_acc: 0.9537\n",
            "Epoch 10/30\n",
            "60000/60000 [==============================] - 2s 38us/step - loss: 0.1850 - acc: 0.9455 - val_loss: 0.1455 - val_acc: 0.9556\n",
            "Epoch 11/30\n",
            "60000/60000 [==============================] - 2s 38us/step - loss: 0.1722 - acc: 0.9488 - val_loss: 0.1339 - val_acc: 0.9586\n",
            "Epoch 12/30\n",
            "60000/60000 [==============================] - 2s 39us/step - loss: 0.1588 - acc: 0.9526 - val_loss: 0.1248 - val_acc: 0.9623\n",
            "Epoch 13/30\n",
            "60000/60000 [==============================] - 2s 39us/step - loss: 0.1535 - acc: 0.9543 - val_loss: 0.1210 - val_acc: 0.9636\n",
            "Epoch 14/30\n",
            "60000/60000 [==============================] - 2s 39us/step - loss: 0.1445 - acc: 0.9566 - val_loss: 0.1137 - val_acc: 0.9654\n",
            "Epoch 15/30\n",
            "60000/60000 [==============================] - 2s 39us/step - loss: 0.1363 - acc: 0.9601 - val_loss: 0.1092 - val_acc: 0.9670\n",
            "Epoch 16/30\n",
            "60000/60000 [==============================] - 2s 40us/step - loss: 0.1285 - acc: 0.9618 - val_loss: 0.1046 - val_acc: 0.9681\n",
            "Epoch 17/30\n",
            "60000/60000 [==============================] - 2s 39us/step - loss: 0.1223 - acc: 0.9633 - val_loss: 0.0997 - val_acc: 0.9691\n",
            "Epoch 18/30\n",
            "60000/60000 [==============================] - 2s 39us/step - loss: 0.1167 - acc: 0.9646 - val_loss: 0.0974 - val_acc: 0.9702\n",
            "Epoch 19/30\n",
            "60000/60000 [==============================] - 2s 39us/step - loss: 0.1107 - acc: 0.9665 - val_loss: 0.0944 - val_acc: 0.9711\n",
            "Epoch 20/30\n",
            "60000/60000 [==============================] - 2s 39us/step - loss: 0.1075 - acc: 0.9671 - val_loss: 0.0897 - val_acc: 0.9723\n",
            "Epoch 21/30\n",
            "60000/60000 [==============================] - 2s 39us/step - loss: 0.1045 - acc: 0.9689 - val_loss: 0.0873 - val_acc: 0.9723\n",
            "Epoch 22/30\n",
            "60000/60000 [==============================] - 2s 39us/step - loss: 0.0999 - acc: 0.9691 - val_loss: 0.0863 - val_acc: 0.9730\n",
            "Epoch 23/30\n",
            "60000/60000 [==============================] - 2s 40us/step - loss: 0.0950 - acc: 0.9707 - val_loss: 0.0842 - val_acc: 0.9751\n",
            "Epoch 24/30\n",
            "60000/60000 [==============================] - 2s 39us/step - loss: 0.0924 - acc: 0.9714 - val_loss: 0.0817 - val_acc: 0.9758\n",
            "Epoch 25/30\n",
            "60000/60000 [==============================] - 2s 39us/step - loss: 0.0859 - acc: 0.9734 - val_loss: 0.0800 - val_acc: 0.9753\n",
            "Epoch 26/30\n",
            "60000/60000 [==============================] - 2s 40us/step - loss: 0.0861 - acc: 0.9734 - val_loss: 0.0791 - val_acc: 0.9758\n",
            "Epoch 27/30\n",
            "60000/60000 [==============================] - 2s 39us/step - loss: 0.0827 - acc: 0.9750 - val_loss: 0.0783 - val_acc: 0.9763\n",
            "Epoch 28/30\n",
            "60000/60000 [==============================] - 2s 39us/step - loss: 0.0793 - acc: 0.9754 - val_loss: 0.0765 - val_acc: 0.9767\n",
            "Epoch 29/30\n",
            "60000/60000 [==============================] - 2s 39us/step - loss: 0.0769 - acc: 0.9761 - val_loss: 0.0752 - val_acc: 0.9774\n",
            "Epoch 30/30\n",
            "60000/60000 [==============================] - 2s 39us/step - loss: 0.0742 - acc: 0.9770 - val_loss: 0.0728 - val_acc: 0.9781\n"
          ],
          "name": "stdout"
        }
      ]
    },
    {
      "metadata": {
        "id": "Q6EpiRkwlysm",
        "colab_type": "code",
        "colab": {
          "base_uri": "https://localhost:8080/",
          "height": 376
        },
        "outputId": "0bb68321-80d6-45b0-dfd0-7e762a1b3b29"
      },
      "cell_type": "code",
      "source": [
        "#----- グラフ出力　-----\n",
        "\n",
        "#Accuracy\n",
        "plt.plot(history.history['acc'])\n",
        "plt.plot(history.history['val_acc'])\n",
        "plt.title('model accuracy')\n",
        "plt.ylabel('accuracy')\n",
        "plt.xlabel('epoch')\n",
        "plt.legend(['train', 'test'], loc='upper left')\n",
        "plt.show()"
      ],
      "execution_count": 6,
      "outputs": [
        {
          "output_type": "display_data",
          "data": {
            "image/png": "[encoded data removed]",
            "text/plain": [
              "<matplotlib.figure.Figure at 0x7f3fde6060b8>"
            ]
          },
          "metadata": {
            "tags": []
          }
        }
      ]
    },
    {
      "metadata": {
        "id": "0mOYo1-8l1pt",
        "colab_type": "code",
        "colab": {
          "base_uri": "https://localhost:8080/",
          "height": 376
        },
        "outputId": "6ab82c00-0e8d-42cc-fae4-1a500a7c931b"
      },
      "cell_type": "code",
      "source": [
        "#loss\n",
        "plt.plot(history.history['loss'])\n",
        "plt.plot(history.history['val_loss'])\n",
        "plt.title('model loss')\n",
        "plt.ylabel('loss')\n",
        "plt.xlabel('epoch')\n",
        "plt.legend(['train', 'test'], loc='upper left')\n",
        "plt.show()\n"
      ],
      "execution_count": 7,
      "outputs": [
        {
          "output_type": "display_data",
          "data": {
            "image/png": "[encoded data removed]",
            "text/plain": [
              "<matplotlib.figure.Figure at 0x7f3fddd21630>"
            ]
          },
          "metadata": {
            "tags": []
          }
        }
      ]
    }
  ]
}